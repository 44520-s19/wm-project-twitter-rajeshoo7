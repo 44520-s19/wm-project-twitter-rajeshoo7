{
 "cells": [
  {
   "cell_type": "markdown",
   "metadata": {},
   "source": [
    "# Rajesh Kammari\n",
    "\n",
    "## Twitter Accounts Variegation (3)\n",
    "   -  sundarpichai (Account 1)\n",
    "   -  satyanadella (Account 2)\n",
    "   -  JeffBezos   (Account 3)\n",
    "   \n",
    "   <p>Sundar Pichai Pichai Sundararajan, also known as Sundar Pichai(@sundarpichai), is an Indian-American business executive.He is an engineer and the chief executive officer (CEO) of Google LLC.Formerly the Product Chief of Google</p>\n",
    "   <p>Satya Narayana Nadella(@satyanadella) is an Indian American business executive. He currently serves as the Chief Executive Officer (CEO) of Microsoft, succeeding Steve Ballmer in 2014.Before becoming chief executive, he was Executive Vice President of Microsoft's Cloud and Enterprise Group, responsible for building and running the company's computing platforms.</p>\n",
    "   <p>Jeffrey Preston Bezos(@JeffBezos) born Jeffrey Preston Jorgensen is an American technology entrepreneur, investor, and philanthropist. He is the founder, chairman, CEO, and president of Amazon.</p>\n",
    "   "
   ]
  },
  {
   "cell_type": "markdown",
   "metadata": {},
   "source": [
    "## Pickle file Creation:\n",
    "> Using Twitter keys, accessed the twitter with an API call, to access the twitter content. The twittwr handles of three accounts namely sundar pichai, satya nadella and Jeff Bezos. Each Account tweets are dumped into three different pickle files to access them."
   ]
  },
  {
   "cell_type": "code",
   "execution_count": 2,
   "metadata": {},
   "outputs": [],
   "source": [
    "import pickle\n",
    "import tweepy \n",
    "from twitter_keys import consumer_key,consumer_secret,access_token,access_secret\n",
    "\n",
    "auth = tweepy.OAuthHandler(consumer_key, consumer_secret)\n",
    "auth.set_access_token(access_token, access_secret)\n",
    "\n",
    "api = tweepy.API(auth)\n",
    "\n",
    "public_tweets = api.user_timeline('sundarpichai')\n",
    "\n",
    "with open('google_tweets.pkl', 'wb') as f:\n",
    "    pickle.dump(public_tweets,f)\n",
    "\n",
    "\n",
    "\n",
    "public_tweets = api.user_timeline('satyanadella')\n",
    "\n",
    "with open('microsoft_tweets.pkl', 'wb') as f:\n",
    "    pickle.dump(public_tweets,f)\n",
    "\n",
    "    \n",
    "public_tweets = api.user_timeline('JeffBezos')\n",
    "\n",
    "with open('amazon_tweets.pkl', 'wb') as f:\n",
    "    pickle.dump(public_tweets,f)\n",
    "    "
   ]
  },
  {
   "cell_type": "markdown",
   "metadata": {},
   "source": [
    "## Loading the pickle file:\n",
    "> Each of the three accounts pickle file is loaded into the three separate variable to access them in the functions"
   ]
  },
  {
   "cell_type": "code",
   "execution_count": 3,
   "metadata": {},
   "outputs": [],
   "source": [
    "import pickle\n",
    "\n",
    "with open('google_tweets.pkl', 'rb') as f:\n",
    "    public_tweets1 = pickle.load(f)\n",
    "    \n",
    "with open('microsoft_tweets.pkl', 'rb') as f:\n",
    "    public_tweets2 = pickle.load(f)\n",
    "    \n",
    "with open('amazon_tweets.pkl', 'rb') as f:\n",
    "    public_tweets3 = pickle.load(f)\n",
    "    \n",
    "    \n"
   ]
  },
  {
   "cell_type": "markdown",
   "metadata": {},
   "source": [
    "## Calculation Of Tweet Word Length Function:\n",
    "> The lexical length is defined that splits and converts all the tokens from the tweet text to lower case and finds the length of the  tweet\n",
    "> All the Individual tweets length is stored in the array of tweetlength of each Account.\n",
    ">  Average of tweet Array is found for the three accounts to compare and visualize in the form of Histogram."
   ]
  },
  {
   "cell_type": "code",
   "execution_count": 4,
   "metadata": {},
   "outputs": [
    {
     "name": "stdout",
     "output_type": "stream",
     "text": [
      "[13, 15, 10, 18, 23, 15, 19, 20, 17, 20, 22, 19, 20, 19, 17, 21, 20, 29, 20, 18]\n",
      "Account1 avg:  18.75\n",
      "[19, 25, 23, 18, 21, 22, 21, 19, 25, 20, 18, 25, 20, 18, 24, 20, 20, 18, 22, 18]\n",
      "Account2 avg:  20.8\n",
      "[20, 17, 11, 20, 11, 22, 21, 20, 7, 24, 23, 22, 21, 20, 26, 7, 24, 1, 3, 14]\n",
      "Account 3 avg:  16.7\n"
     ]
    }
   ],
   "source": [
    "# Lexical length\n",
    "\n",
    "def lexical_length(text):\n",
    "    tokens = text.lower().split()\n",
    "    return len(tokens)\n",
    "\n",
    "# Account 1\n",
    "\n",
    "\n",
    "\n",
    "\n",
    "tweet_length1 = [lexical_length(tweet.text) for tweet in public_tweets1]\n",
    "\n",
    "print(tweet_length1)\n",
    "\n",
    "\n",
    "Avg1=sum(tweet_length1)/len(tweet_length1)\n",
    "# \n",
    "print('Account1 avg: ',Avg1 )\n",
    "\n",
    "\n",
    "# Account 2\n",
    "\n",
    "\n",
    "\n",
    "tweet_length2 = [lexical_length(tweet.text) for tweet in public_tweets2]\n",
    "\n",
    "print(tweet_length2)\n",
    "\n",
    "\n",
    "Avg2=sum(tweet_length2)/len(tweet_length2)\n",
    " \n",
    "print('Account2 avg: ', Avg2)\n",
    "\n",
    "\n",
    "\n",
    "\n",
    "\n",
    "# Account 3\n",
    "\n",
    "tweet_length3 = [lexical_length(tweet.text) for tweet in public_tweets3]\n",
    "\n",
    "print(tweet_length3)\n",
    "\n",
    "Avg3=sum(tweet_length3)/len(tweet_length3)\n",
    "print('Account 3 avg: ', Avg3)\n",
    "\n",
    "AccntsAvg ={\n",
    "  \"Account1\": Avg1,\n",
    "  \"Account2\": Avg2,\n",
    "  \"Account3\": Avg3\n",
    "}\n"
   ]
  },
  {
   "cell_type": "markdown",
   "metadata": {},
   "source": [
    "## Histogram of Lexical Averages Presentation:\n",
    "\n",
    "> Matplot library is used to visualize the data, Averages of tweets length is calculated in called in the list and sorted. X     axis is titled for Accounts and Y axis is titles to represent averages. \n",
    "\n",
    "> Each Account Lexical Averages is visualized in the histogram format\n",
    "\n",
    "> sundarpichai (Account 1) bar is represented in the color of red\n",
    "  satyanadella (Account 2) bar is represented in the color of black\n",
    "  JeffBezos (Account 3) bar is represented in the color of green\n",
    "\n"
   ]
  },
  {
   "cell_type": "code",
   "execution_count": 5,
   "metadata": {},
   "outputs": [
    {
     "name": "stdout",
     "output_type": "stream",
     "text": [
      "[20.8, 18.75, 16.7]\n",
      "['Account2', 'Account1', 'Account3']\n"
     ]
    },
    {
     "data": {
      "image/png": "[encoded data removed]",
      "text/plain": [
       "<Figure size 432x288 with 1 Axes>"
      ]
     },
     "metadata": {
      "needs_background": "light"
     },
     "output_type": "display_data"
    }
   ],
   "source": [
    "import matplotlib.pyplot as plt\n",
    "\n",
    "\n",
    "NUM_VALUES = 3\n",
    "\n",
    "heights=list(AccntsAvg.values())\n",
    "heights.sort(reverse=True)\n",
    "print(heights)\n",
    "plt.bar(range(3), heights,color=['black','red','green'])\n",
    "plt.title('Account Lexical Length Averages')\n",
    "plt.ylabel('#Average')\n",
    "keys = list(AccntsAvg.keys())\n",
    "keys.sort(reverse=True, key=lambda x: AccntsAvg[x])\n",
    "print(keys)\n",
    "plt.xticks(range((NUM_VALUES)),keys[:NUM_VALUES])\n",
    "\n",
    "\n",
    "plt.show()\n"
   ]
  },
  {
   "cell_type": "markdown",
   "metadata": {},
   "source": [
    "## Conclusion:\n",
    "<p>The information inferred from analysis of these three accounts shows that, the average length of tweets is not more 18.The accounts (@satyanadella) and (@Jeffbezos) can identified as extremes. Infact, the words used by the Satya Nadella is more than other two accounts and Jeff Bezos uses an average of 16 lexical length. </p>"
   ]
  }
 ],
 "metadata": {
  "kernelspec": {
   "display_name": "Python 3",
   "language": "python",
   "name": "python3"
  },
  "language_info": {
   "codemirror_mode": {
    "name": "ipython",
    "version": 3
   },
   "file_extension": ".py",
   "mimetype": "text/x-python",
   "name": "python",
   "nbconvert_exporter": "python",
   "pygments_lexer": "ipython3",
   "version": "3.7.3"
  }
 },
 "nbformat": 4,
 "nbformat_minor": 2
}
