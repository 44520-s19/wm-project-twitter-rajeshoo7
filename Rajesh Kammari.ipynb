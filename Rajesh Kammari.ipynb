{
 "cells": [
  {
   "cell_type": "markdown",
   "metadata": {},
   "source": [
    "# Rajesh Kammari\n",
    "\n",
    "## Twitter Accounts (3)\n",
    "   -  sundarpichai\n",
    "   -  satyanadella\n",
    "   -  JeffBezos   \n",
    "   "
   ]
  },
  {
   "cell_type": "code",
   "execution_count": 2,
   "metadata": {},
   "outputs": [],
   "source": [
    "# Rajesh Kammari\n",
    "# Twitter Accounts -    -  sundarpichai -  satyanadella  -  JeffBezos "
   ]
  },
  {
   "cell_type": "code",
   "execution_count": 4,
   "metadata": {},
   "outputs": [],
   "source": [
    "import pickle\n",
    "import tweepy \n",
    "from twitter_keys import consumer_key,consumer_secret,access_token,access_secret\n",
    "\n",
    "auth = tweepy.OAuthHandler(consumer_key, consumer_secret)\n",
    "auth.set_access_token(access_token, access_secret)\n",
    "\n",
    "api = tweepy.API(auth)\n",
    "\n",
    "public_tweets = api.user_timeline('sundarpichai')\n",
    "\n",
    "with open('google_tweets.pkl', 'wb') as f:\n",
    "    pickle.dump(public_tweets,f)\n",
    "\n",
    "\n",
    "\n",
    "public_tweets = api.user_timeline('satyanadella')\n",
    "\n",
    "with open('microsoft_tweets.pkl', 'wb') as f:\n",
    "    pickle.dump(public_tweets,f)\n",
    "\n",
    "    \n",
    "public_tweets = api.user_timeline('JeffBezos')\n",
    "\n",
    "with open('amazon_tweets.pkl', 'wb') as f:\n",
    "    pickle.dump(public_tweets,f)\n",
    "    "
   ]
  },
  {
   "cell_type": "code",
   "execution_count": 6,
   "metadata": {},
   "outputs": [],
   "source": [
    "import pickle\n",
    "\n",
    "with open('google_tweets.pkl', 'rb') as f:\n",
    "    public_tweets1 = pickle.load(f)\n",
    "    \n",
    "with open('microsoft_tweets.pkl', 'rb') as f:\n",
    "    public_tweets2 = pickle.load(f)\n",
    "    \n",
    "with open('amazon_tweets.pkl', 'rb') as f:\n",
    "    public_tweets3 = pickle.load(f)\n",
    "    \n"
   ]
  },
  {
   "cell_type": "code",
   "execution_count": 7,
   "metadata": {},
   "outputs": [
    {
     "name": "stdout",
     "output_type": "stream",
     "text": [
      "['@Scott_Wiener', '@Google', 'Thanks,', '@Scott_Wiener.', 'We', 'look', 'forward', 'to', 'working', 'with', 'you', 'on', 'this.']\n",
      "13\n",
      "@Scott_Wiener @Google Thanks, @Scott_Wiener. We look forward to working with you on this.\n"
     ]
    }
   ],
   "source": [
    "# Lexical Diversity\n",
    "\n",
    "\n",
    "tweet = public_tweets1[0]\n",
    "\n",
    "tokens = tweet.text.split()\n",
    "\n",
    "print(tokens)\n",
    "\n",
    "print(len(tokens))\n",
    "\n"
   ]
  },
  {
   "cell_type": "code",
   "execution_count": 8,
   "metadata": {},
   "outputs": [
    {
     "name": "stdout",
     "output_type": "stream",
     "text": [
      "['@scott_wiener', '@google', 'thanks,', '@scott_wiener.', 'we', 'look', 'forward', 'to', 'working', 'with', 'you', 'on', 'this.']\n",
      "13\n",
      "13\n",
      "{'@google', 'to', 'we', 'this.', 'look', '@scott_wiener.', 'you', 'on', 'forward', '@scott_wiener', 'thanks,', 'with', 'working'}\n",
      "Lexical Diversity: 1.0\n"
     ]
    }
   ],
   "source": [
    "lower_tokens = [s.lower() for s in tokens]\n",
    "print(lower_tokens)\n",
    "print(len(lower_tokens))\n",
    "\n",
    "unique_lower = set(lower_tokens)\n",
    "print(len(unique_lower))\n",
    "\n",
    "print(unique_lower)\n",
    "\n",
    "print('Lexical Diversity:', len(unique_lower)/len(lower_tokens))"
   ]
  },
  {
   "cell_type": "code",
   "execution_count": null,
   "metadata": {},
   "outputs": [],
   "source": []
  }
 ],
 "metadata": {
  "kernelspec": {
   "display_name": "Python 3",
   "language": "python",
   "name": "python3"
  },
  "language_info": {
   "codemirror_mode": {
    "name": "ipython",
    "version": 3
   },
   "file_extension": ".py",
   "mimetype": "text/x-python",
   "name": "python",
   "nbconvert_exporter": "python",
   "pygments_lexer": "ipython3",
   "version": "3.7.3"
  }
 },
 "nbformat": 4,
 "nbformat_minor": 2
}
