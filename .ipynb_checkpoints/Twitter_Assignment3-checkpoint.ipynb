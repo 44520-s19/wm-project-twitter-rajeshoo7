{
 "cells": [
  {
   "cell_type": "markdown",
   "metadata": {},
   "source": [
    "# Rajesh Kammari\n",
    "\n",
    "## Twitter Accounts (3)\n",
    "   -  sundarpichai\n",
    "   -  satyanadella\n",
    "   -  JeffBezos   \n",
    "   "
   ]
  },
  {
   "cell_type": "markdown",
   "metadata": {},
   "source": [
    "> Each Account is dumped in the pickle files"
   ]
  },
  {
   "cell_type": "code",
   "execution_count": 1,
   "metadata": {},
   "outputs": [],
   "source": [
    "import pickle\n",
    "import tweepy \n",
    "from twitter_keys import consumer_key,consumer_secret,access_token,access_secret\n",
    "\n",
    "auth = tweepy.OAuthHandler(consumer_key, consumer_secret)\n",
    "auth.set_access_token(access_token, access_secret)\n",
    "\n",
    "api = tweepy.API(auth)\n",
    "\n",
    "public_tweets = api.user_timeline('sundarpichai')\n",
    "\n",
    "with open('google_tweets.pkl', 'wb') as f:\n",
    "    pickle.dump(public_tweets,f)\n",
    "\n",
    "\n",
    "\n",
    "public_tweets = api.user_timeline('satyanadella')\n",
    "\n",
    "with open('microsoft_tweets.pkl', 'wb') as f:\n",
    "    pickle.dump(public_tweets,f)\n",
    "\n",
    "    \n",
    "public_tweets = api.user_timeline('JeffBezos')\n",
    "\n",
    "with open('amazon_tweets.pkl', 'wb') as f:\n",
    "    pickle.dump(public_tweets,f)\n",
    "    "
   ]
  },
  {
   "cell_type": "markdown",
   "metadata": {},
   "source": [
    "> Each Account pickle file loaded into the public tweets"
   ]
  },
  {
   "cell_type": "code",
   "execution_count": 3,
   "metadata": {},
   "outputs": [],
   "source": [
    "import pickle\n",
    "\n",
    "with open('google_tweets.pkl', 'rb') as f:\n",
    "    public_tweets1 = pickle.load(f)\n",
    "    \n",
    "with open('microsoft_tweets.pkl', 'rb') as f:\n",
    "    public_tweets2 = pickle.load(f)\n",
    "    \n",
    "with open('amazon_tweets.pkl', 'rb') as f:\n",
    "    public_tweets3 = pickle.load(f)\n",
    "    \n"
   ]
  },
  {
   "cell_type": "markdown",
   "metadata": {},
   "source": [
    "> Each Account tweets Lexical Length is calculated and stored in the array "
   ]
  },
  {
   "cell_type": "code",
   "execution_count": 51,
   "metadata": {},
   "outputs": [
    {
     "name": "stdout",
     "output_type": "stream",
     "text": [
      "[13, 15, 10, 18, 23, 15, 19, 20, 17, 20, 22, 19, 20, 19, 17, 21, 20, 29, 20, 18]\n",
      "Account1 avg:  18.75\n",
      "[19, 25, 23, 18, 21, 22, 21, 19, 25, 20, 18, 25, 20, 18, 24, 20, 20, 18, 22, 18]\n",
      "Account2 avg:  20.8\n",
      "[17, 11, 20, 11, 22, 21, 20, 7, 24, 23, 22, 21, 20, 26, 7, 24, 1, 3, 14, 21]\n",
      "Account 3 avg:  16.75\n"
     ]
    }
   ],
   "source": [
    "# Lexical length\n",
    "\n",
    "def lexical_length(text):\n",
    "    tokens = text.lower().split()\n",
    "    return len(tokens)\n",
    "\n",
    "# Account 1\n",
    "\n",
    "\n",
    "#tweet = public_tweets1[0]\n",
    "\n",
    "#tweet = [for x in public_tweets1]\n",
    "\n",
    "\n",
    "tweet_length1 = [lexical_length(tweet.text) for tweet in public_tweets1]\n",
    "\n",
    "print(tweet_length1)\n",
    "\n",
    "\n",
    "Avg1=sum(tweet_length1)/len(tweet_length1)\n",
    "# \n",
    "print('Account1 avg: ',Avg1 )\n",
    "\n",
    "\n",
    "# Account 2\n",
    "\n",
    "\n",
    "\n",
    "tweet_length2 = [lexical_length(tweet.text) for tweet in public_tweets2]\n",
    "\n",
    "print(tweet_length2)\n",
    "\n",
    "\n",
    "Avg2=sum(tweet_length2)/len(tweet_length2)\n",
    " \n",
    "print('Account2 avg: ', Avg2)\n",
    "\n",
    "\n",
    "\n",
    "\n",
    "\n",
    "# Account 3\n",
    "\n",
    "tweet_length3 = [lexical_length(tweet.text) for tweet in public_tweets3]\n",
    "\n",
    "print(tweet_length3)\n",
    "\n",
    "Avg3=sum(tweet_length3)/len(tweet_length3)\n",
    "print('Account 3 avg: ', Avg3)\n",
    "\n",
    "AccntsAvg ={\n",
    "  \"Account1\": Avg1,\n",
    "  \"Account2\": Avg2,\n",
    "  \"Account3\": Avg3\n",
    "}\n"
   ]
  },
  {
   "cell_type": "markdown",
   "metadata": {},
   "source": [
    "> Each Account Lexical Averages is visualized in the histogram format\n"
   ]
  },
  {
   "cell_type": "code",
   "execution_count": 53,
   "metadata": {},
   "outputs": [
    {
     "name": "stdout",
     "output_type": "stream",
     "text": [
      "[20.8, 18.75, 16.75]\n",
      "['Account2', 'Account1', 'Account3']\n"
     ]
    },
    {
     "data": {
      "image/png": "[encoded data removed]",
      "text/plain": [
       "<Figure size 432x288 with 1 Axes>"
      ]
     },
     "metadata": {
      "needs_background": "light"
     },
     "output_type": "display_data"
    }
   ],
   "source": [
    "import matplotlib.pyplot as plt\n",
    "#from matplotlib.ticker() import ScalarFormatter \n",
    "\n",
    "NUM_VALUES = 3\n",
    "\n",
    "heights=list(AccntsAvg.values())\n",
    "heights.sort(reverse=True)\n",
    "print(heights)\n",
    "plt.bar(range(3), heights)\n",
    "plt.title('Account Lexical Length Averages')\n",
    "plt.ylabel('#Average')\n",
    "keys = list(AccntsAvg.keys())\n",
    "keys.sort(reverse=True, key=lambda x: AccntsAvg[x])\n",
    "print(keys)\n",
    "plt.xticks(range((NUM_VALUES)),keys[:NUM_VALUES])\n",
    "\n",
    "#plt.gca().yaxis.set_major_formatter(ScalarFormatter()) \n",
    "#plt.yscale(\"log\") \n",
    "plt.show()\n"
   ]
  },
  {
   "cell_type": "markdown",
   "metadata": {},
   "source": [
    "> The Information infered from the histogram is that Account2 uses the maximum words that is 20 words and Account 3 uses the least number of words that is 16 words.While \n",
    "> while tweeting in the twitter.\n",
    "> We can also notice that the Account uses around 18 words to tweets"
   ]
  },
  {
   "cell_type": "code",
   "execution_count": null,
   "metadata": {},
   "outputs": [],
   "source": []
  }
 ],
 "metadata": {
  "kernelspec": {
   "display_name": "Python 3",
   "language": "python",
   "name": "python3"
  },
  "language_info": {
   "codemirror_mode": {
    "name": "ipython",
    "version": 3
   },
   "file_extension": ".py",
   "mimetype": "text/x-python",
   "name": "python",
   "nbconvert_exporter": "python",
   "pygments_lexer": "ipython3",
   "version": "3.7.3"
  }
 },
 "nbformat": 4,
 "nbformat_minor": 2
}
